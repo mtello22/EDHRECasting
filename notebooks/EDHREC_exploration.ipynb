{
 "cells": [
  {
   "cell_type": "code",
   "execution_count": 1,
   "id": "902a314b-6b44-4528-892f-14eea08d51a0",
   "metadata": {},
   "outputs": [],
   "source": [
    "from pyedhrec import EDHRec\n",
    "edhrec = EDHRec()"
   ]
  },
  {
   "cell_type": "code",
   "execution_count": 2,
   "id": "04c84495-83d8-4be8-b0f5-dfc545fe0116",
   "metadata": {},
   "outputs": [],
   "source": [
    "# Reference cards by the exact card name, the library will format as needed\n",
    "miirym = \"Miirym, Sentinel Wyrm\"\n",
    "\n",
    "# Get basic card details\n",
    "details = edhrec.get_card_details(miirym)"
   ]
  },
  {
   "cell_type": "code",
   "execution_count": 3,
   "id": "ebd29ceb-8728-46cc-a23a-77c76b9291ea",
   "metadata": {},
   "outputs": [
    {
     "data": {
      "text/plain": [
       "{'aetherhub_uri': 'https://aetherhub.com/Meta/Format/Commander/?com=Miirym%2C%20Sentinel%20Wyrm&updated=all-time',\n",
       " 'archidekt_uri': 'https://archidekt.com/search/decks?commanders=\"Miirym%2C%20Sentinel%20Wyrm\"&formats=3',\n",
       " 'banned': False,\n",
       " 'cardmarket_id': 660752,\n",
       " 'cmc': 6.0,\n",
       " 'color_identity': ['G', 'U', 'R'],\n",
       " 'combo_url': 'combos/miirym-sentinel-wyrm',\n",
       " 'deckstats_uri': 'https://deckstats.net/decks/search/?search_cards[]=Miirym%2C%20Sentinel%20Wyrm&search_format=10',\n",
       " 'id': 'a934590b-5c70-4f07-af67-fbe817a99531',\n",
       " 'image_uri': 'https://cards.scryfall.io/normal/front/a/9/a934590b-5c70-4f07-af67-fbe817a99531.jpg?1674137589',\n",
       " 'image_uris': ['https://cards.scryfall.io/normal/front/a/9/a934590b-5c70-4f07-af67-fbe817a99531.jpg?1674137589'],\n",
       " 'layout': 'normal',\n",
       " 'legal_commander': True,\n",
       " 'legal_companion': False,\n",
       " 'legal_partner': False,\n",
       " 'mana_cost': '{3}{G}{U}{R}',\n",
       " 'moxfield_uri': 'https://moxfield.com/decks/public?format=commander&filter=Miirym%2C%20Sentinel%20Wyrm',\n",
       " 'mtggoldfish_uri': 'https://www.mtggoldfish.com/deck/custom?mformat=commander&commander=Miirym%2C+Sentinel+Wyrm',\n",
       " 'name': 'Miirym, Sentinel Wyrm',\n",
       " 'names': ['Miirym, Sentinel Wyrm'],\n",
       " 'new': False,\n",
       " 'oracle_text': \"Flying, ward {2}\\nWhenever another nontoken Dragon you control enters, create a token that's a copy of it, except the token isn't legendary.\",\n",
       " 'power': '6',\n",
       " 'precon': False,\n",
       " 'prices': {'cardhoarder': {'price': 2.18,\n",
       "   'url': 'https://www.cardhoarder.com/cards/100606?affiliate_id=edhrec'},\n",
       "  'cardkingdom': {'price': 1.99,\n",
       "   'url': 'https://www.cardkingdom.com/mtg/commander-legends-battle-for-baldurs-gate-variants/miirym-sentinel-wyrm-showcase?partner=edhrec&utm_source=edhrec&utm_medium=affiliate&utm_campaign=edhrec'},\n",
       "  'cardmarket': {'price': 1.1,\n",
       "   'url': 'https://www.cardmarket.com/en/Magic/Products/Search?searchString=Miirym%2C+Sentinel+Wyrm'},\n",
       "  'face2face': {'price': 2.17,\n",
       "   'url': 'https://www.facetofacegames.com/search/?keyword=Miirym, Sentinel Wyrm'},\n",
       "  'manapool': {'price': 1.55, 'slug': 'clb/431/miirym-sentinel-wyrm'},\n",
       "  'mtgstocks': {'price': 1.12,\n",
       "   'url': 'https://www.mtgstocks.com/prints/76353-miirym-sentinel-wyrm-showcase'},\n",
       "  'scg': {'price': 1.49, 'slug': 'miirym-sentinel-wyrm-sgl-mtg-clb2-431-enn'},\n",
       "  'tcgl': {'price': 336.0, 'slug': 'pclb_284s_en'},\n",
       "  'tcgplayer': {'price': 2.1,\n",
       "   'url': 'https://www.tcgplayer.com/product/273196/magic-commander-legends-battle-for-baldurs-gate-miirym-sentinel-wyrm?partner=EDHREC&utm_campaign=affiliate&utm_medium=EDHREC&utm_source=EDHREC'}},\n",
       " 'primary_type': 'Creature',\n",
       " 'rarity': 'rare',\n",
       " 'released_at': '2022-06-10',\n",
       " 'salt': 1.789855072463768,\n",
       " 'toughness': '6',\n",
       " 'type': 'Legendary Creature — Dragon Spirit',\n",
       " 'scryfall_uri': 'https://scryfall.com/card/clb/284/miirym-sentinel-wyrm?utm_source=api',\n",
       " 'sets': ['clb'],\n",
       " 'spellbook_uri': 'https://commanderspellbook.com/search/?q=Miirym%2C%20Sentinel%20Wyrm',\n",
       " 'subtypes': ['Dragon', 'Spirit'],\n",
       " 'types': ['Creature'],\n",
       " 'unique_artwork': [{'artist': 'Jeff Miracola',\n",
       "   'collector_number': '71',\n",
       "   'set': 'aclb',\n",
       "   'set_name': \"Battle for Baldur's Gate Art Series\",\n",
       "   'image_uris': ['https://cards.scryfall.io/normal/front/0/9/090d1f08-0859-4864-b5a9-6936a4e89be8.jpg?1679945497',\n",
       "    'https://cards.scryfall.io/normal/back/0/9/090d1f08-0859-4864-b5a9-6936a4e89be8.jpg?1679945497']},\n",
       "  {'artist': 'Jeff Miracola',\n",
       "   'collector_number': '431',\n",
       "   'set': 'clb',\n",
       "   'set_name': \"Commander Legends: Battle for Baldur's Gate\",\n",
       "   'image_uris': ['https://cards.scryfall.io/normal/front/9/6/96f0daf2-36c5-4b3e-ab81-7317682a406b.jpg?1674138826']},\n",
       "  {'artist': 'Kekai Kotaki',\n",
       "   'collector_number': '284',\n",
       "   'set': 'clb',\n",
       "   'set_name': \"Commander Legends: Battle for Baldur's Gate\",\n",
       "   'image_uris': ['https://cards.scryfall.io/normal/front/a/9/a934590b-5c70-4f07-af67-fbe817a99531.jpg?1674137589']}],\n",
       " 'unofficial': False,\n",
       " 'url': 'miirym-sentinel-wyrm',\n",
       " 'weird': False}"
      ]
     },
     "execution_count": 3,
     "metadata": {},
     "output_type": "execute_result"
    }
   ],
   "source": [
    "details"
   ]
  }
 ],
 "metadata": {
  "kernelspec": {
   "display_name": "Python 3 (ipykernel)",
   "language": "python",
   "name": "python3"
  },
  "language_info": {
   "codemirror_mode": {
    "name": "ipython",
    "version": 3
   },
   "file_extension": ".py",
   "mimetype": "text/x-python",
   "name": "python",
   "nbconvert_exporter": "python",
   "pygments_lexer": "ipython3",
   "version": "3.13.0"
  }
 },
 "nbformat": 4,
 "nbformat_minor": 5
}
